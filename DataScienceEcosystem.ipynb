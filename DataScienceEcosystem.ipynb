{
 "cells": [
  {
   "cell_type": "markdown",
   "id": "1ab08c75-4173-4dd8-a94a-b7536b414a17",
   "metadata": {},
   "source": [
    "# Data Science Tools and Ecosystem"
   ]
  },
  {
   "cell_type": "markdown",
   "id": "a250dcb6-2b45-4b33-b899-835f3686e0cd",
   "metadata": {},
   "source": [
    "## In this notebook, Data Science Tools and Ecosystem are summarized."
   ]
  },
  {
   "cell_type": "markdown",
   "id": "c2576d23-bfbf-4f49-89f9-25ba2f0bcdde",
   "metadata": {},
   "source": [
    "### some of the key takeaways from the course\n",
    "**Objectives:**\n",
    "- Working in Watson Studio\n",
    "- Activate Jupiter notebook \n",
    "- Instantiate environment\n",
    "- Python evvironment setup\n",
    "- Insert spark session"
   ]
  },
  {
   "cell_type": "markdown",
   "id": "ee9103a2-51a7-42bc-931b-842dc0e1b1f7",
   "metadata": {},
   "source": [
    "### Some of the popular languages that Data Scientists use are:"
   ]
  },
  {
   "cell_type": "markdown",
   "id": "18cb2f18-48e8-4705-82da-8907dab8709d",
   "metadata": {},
   "source": [
    "1. pyhton\n",
    "2. R\n",
    "3. SQL\n",
    "4. Java\n",
    "5. Julia"
   ]
  },
  {
   "cell_type": "markdown",
   "id": "c174ac8a-2592-4c0b-9b7b-e42de6c5ff40",
   "metadata": {},
   "source": [
    "### Some of the commonly used libraries used by Data Scientists are:\n",
    "1. pandas\n",
    "2. NumPy\n",
    "3. SciPy\n",
    "4. Sci-Kit Learn\n",
    "5. Matplotlib"
   ]
  },
  {
   "cell_type": "markdown",
   "id": "788e157c-e6b4-40a0-8a00-b00ba6ec1da5",
   "metadata": {},
   "source": [
    "|Data Science Tools  |\n",
    "|--------------------|\n",
    "|Jupyter Lab         |\n",
    "|Spyder              |\n",
    "|Pycharm             |\n",
    "|Java                |\n",
    "|Julia               |"
   ]
  },
  {
   "cell_type": "markdown",
   "id": "68ef859f-00c8-494e-99df-738ef8568bc8",
   "metadata": {},
   "source": [
    "### Below are a few examples of evaluating arithmetic expressions in Python."
   ]
  },
  {
   "cell_type": "code",
   "execution_count": 1,
   "id": "a57bf1dc-1217-40cc-83e4-8e50392f2eb9",
   "metadata": {
    "tags": []
   },
   "outputs": [
    {
     "data": {
      "text/plain": [
       "17"
      ]
     },
     "execution_count": 1,
     "metadata": {},
     "output_type": "execute_result"
    }
   ],
   "source": [
    "# This a simple arithmetic expression to mutiply then add integers\n",
    "\n",
    "(3*4)+5"
   ]
  },
  {
   "cell_type": "code",
   "execution_count": 8,
   "id": "1fe1411d-8c74-49c6-b71c-b21169bfad47",
   "metadata": {
    "tags": []
   },
   "outputs": [
    {
     "data": {
      "text/plain": [
       "3.33"
      ]
     },
     "execution_count": 8,
     "metadata": {},
     "output_type": "execute_result"
    }
   ],
   "source": [
    "# This will convert 200 minutes to hours by diving by 60\n",
    "\n",
    "round(200/60, 2)"
   ]
  },
  {
   "cell_type": "markdown",
   "id": "2d00b091-245b-4d3a-9606-45df6461e9ab",
   "metadata": {},
   "source": [
    "##  Author\n",
    " Neha Singh"
   ]
  }
 ],
 "metadata": {
  "kernelspec": {
   "display_name": "learn_venv",
   "language": "python",
   "name": "learn_venv"
  },
  "language_info": {
   "codemirror_mode": {
    "name": "ipython",
    "version": 3
   },
   "file_extension": ".py",
   "mimetype": "text/x-python",
   "name": "python",
   "nbconvert_exporter": "python",
   "pygments_lexer": "ipython3",
   "version": "3.8.5"
  }
 },
 "nbformat": 4,
 "nbformat_minor": 5
}
